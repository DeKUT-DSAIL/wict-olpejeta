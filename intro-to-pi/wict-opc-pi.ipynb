{
 "cells": [
  {
   "cell_type": "markdown",
   "id": "863a1afc",
   "metadata": {},
   "source": [
    "## Raspberry pi\n",
    "\n",
    "The Raspberry Pi is a small low-cost single-board computer.\n",
    "<img src=\"images/pi-labelled-names.png\" alt=\"drawing\" width=\"500\"/> \n",
    "\n",
    "* __USB ports__ — these are used to connect a mouse and keyboard. You can also connect other components, such as a USB drive.\n",
    "\n",
    "* __SD card slot__ — you can slot the SD card in here. This is where the operating system software and your files are stored.\n",
    "\n",
    "* __Ethernet port__ — this is used to connect Raspberry Pi to a network with a cable. Raspberry Pi can also connect to a network via wireless LAN.\n",
    "\n",
    "* __Audio jack__ — you can connect headphones or speakers here.\n",
    "\n",
    "* __HDMI port__ — this is where you connect the monitor (or projector) that you are using to display the output from the Raspberry Pi. If your monitor has speakers, you can also use them to hear sound.\n",
    "\n",
    "* __USB power connector__ — this is where you connect a power supply. You should always do this last, after you have connected all your other components.\n",
    "\n",
    "* __GPIO ports__ — these allow you to connect electronic components such as LEDs and buttons to Raspberry Pi.\n",
    "\n",
    "\n",
    "The Raspberry Pi is small, doesn't use much power, and is relatively inexpensive.\n",
    "\n",
    "\n",
    "## Raspberry pi Operating System\n",
    "\n",
    "An Operating System (OS) is an interface between a computer user and computer hardware.Your Raspberry Pi needs an operating system to work. It uses Linux, and in particular Raspbian.\n",
    "\n",
    "To install an operating system, you'll need two things: an image file, and a program that will write it to your SD card. \n",
    "\n",
    "Raspberry Pi OS can be installed using the [Raspberry Pi Imager](https://www.raspberrypi.com/software/)\n",
    "\n",
    "<img src=\"images/imager.png\" alt=\"drawing\" width=\"500\"/> "
   ]
  },
  {
   "cell_type": "markdown",
   "id": "7de82106",
   "metadata": {},
   "source": [
    "## Headless connection\n",
    "A Raspberry Pi is considered headless when you have no monitor or keyboard connected to it. \n",
    "\n",
    "A headless Raspberry Pi can be useful for any situation where you don't want or need access to a monitor and keyboard.\n",
    "\n",
    "\n",
    "\n",
    "### Putty\n",
    "[PuTTy](https://www.putty.org/) is a software terminal emulator for Windows and Linux. It provides a text user interface to remote computers running any of its supported protocols, including SSH and Telnet.\n",
    "\n",
    "<table><tr>\n",
    "<td> <img src=\"images/putty.jpg\" alt=\"Drawing\" width= \"300\"/> </td>\n",
    "<td><img src=\"images/putty-session.jpg\" alt=\"Drawing\" width= \"300\"/> </td>\n",
    "</tr></table>\n",
    "\n",
    "### VNC viewer\n",
    "[VNC viewer](https://www.realvnc.com/en/connect/download/viewer/) is a graphical desktop sharing system that allows a user to remotely control the desktop of a remote computer (running VNC Server) from your device, and it transmits the keyboard and mouse or touch events to VNC Server, so that once you are connected, you have control over the computer you’ve accessed.\n",
    "\n",
    "<table><tr>\n",
    "<td> <img src=\"images/vnc.png\" alt=\"drawing\" width=\"300\" height=\"100\" /> </td>\n",
    "<td> <img src=\"images/pi-desktop.png\" alt=\"drawing\" width=\"300\" height=\"100\" /> </td>\n",
    "</tr></table>\n"
   ]
  },
  {
   "cell_type": "markdown",
   "id": "786afa76",
   "metadata": {},
   "source": [
    "### Python \n",
    "\n",
    "Python is a  programming language created by Guido van Rossum, and released in 1991.\n",
    "\n",
    "It is used for:\n",
    "\n",
    "- web development (server-side),\n",
    "- software development,\n",
    "- mathematics,\n",
    "- system scripting.\n",
    "\n",
    "Python works on different platforms (Windows, Mac, Linux, Raspberry Pi, etc) and it uses a simple syntax similar to the English language.\n"
   ]
  },
  {
   "cell_type": "code",
   "execution_count": null,
   "id": "7f6535d7",
   "metadata": {
    "scrolled": true
   },
   "outputs": [],
   "source": [
    "print(\"Hello World\")"
   ]
  },
  {
   "cell_type": "markdown",
   "id": "8be71a23",
   "metadata": {},
   "source": [
    "### Commands"
   ]
  },
  {
   "cell_type": "code",
   "execution_count": null,
   "id": "62347e31",
   "metadata": {},
   "outputs": [],
   "source": [
    "#get ip address for device\n",
    "\n",
    "hostname -I"
   ]
  },
  {
   "cell_type": "code",
   "execution_count": null,
   "id": "98b53f4b",
   "metadata": {},
   "outputs": [],
   "source": [
    "#make directory\n",
    "\n",
    "mkdir <directory name>"
   ]
  },
  {
   "cell_type": "code",
   "execution_count": null,
   "id": "92ed09af",
   "metadata": {},
   "outputs": [],
   "source": [
    "#change directory\n",
    "\n",
    "cd <directory name>"
   ]
  },
  {
   "cell_type": "code",
   "execution_count": null,
   "id": "aea1297a",
   "metadata": {},
   "outputs": [],
   "source": [
    "#list all directories\n",
    "\n",
    "ls"
   ]
  },
  {
   "cell_type": "code",
   "execution_count": null,
   "id": "2d953b08",
   "metadata": {},
   "outputs": [],
   "source": [
    "#create and edit file\n",
    "\n",
    "nano <filename>"
   ]
  },
  {
   "cell_type": "markdown",
   "id": "933536a6",
   "metadata": {},
   "source": [
    "## Raspberry Picamera module\n",
    "\n",
    "<img src=\"images/pi-camera-attached.jpg\" alt=\"drawing\" width=\"300\"/> \n",
    "\n",
    "1. Ensure your Raspberry Pi is turned off.\n",
    "2. Attach your camera\n",
    "3. Start up your Pi and __enable__ the camera from the __interfaces__ tab.\n",
    "4. Reboot your Pi "
   ]
  },
  {
   "cell_type": "markdown",
   "id": "fcd97862",
   "metadata": {},
   "source": [
    "### Taking an image\n",
    "\n",
    "Use the command __raspistill__"
   ]
  },
  {
   "cell_type": "code",
   "execution_count": null,
   "id": "c3c556d5",
   "metadata": {},
   "outputs": [],
   "source": [
    "#captures image and saves on desktop\n",
    "raspistill -o Desktop/image.jpg"
   ]
  },
  {
   "cell_type": "code",
   "execution_count": null,
   "id": "ebdc3064",
   "metadata": {},
   "outputs": [],
   "source": [
    "#change height and width of the image\n",
    "raspistill -o Desktop/image-small.jpg -w 640 -h 480"
   ]
  },
  {
   "cell_type": "markdown",
   "id": "af70a395",
   "metadata": {},
   "source": [
    "### Picamera\n",
    "This is a python library that enables us to capture images/videos.\n",
    "\n",
    "Create a python file (__nano camera.py__)"
   ]
  },
  {
   "cell_type": "code",
   "execution_count": null,
   "id": "adb6cb55",
   "metadata": {},
   "outputs": [],
   "source": [
    "from picamera import PiCamera\n",
    "from time import sleep\n",
    "\n",
    "camera = PiCamera()\n",
    "#camera.rotation = 180\n",
    "camera.start_preview()\n",
    "sleep(5)\n",
    "camera.capture('/home/pi/Desktop/image-py.jpg') \n",
    "camera.stop_preview()"
   ]
  },
  {
   "cell_type": "code",
   "execution_count": null,
   "id": "7a274d83",
   "metadata": {},
   "outputs": [],
   "source": [
    "#several images at once\n",
    "camera.start_preview()\n",
    "for i in range(5):\n",
    "    sleep(5)\n",
    "    camera.capture('/home/pi/Desktop/image%s.jpg' % i)\n",
    "camera.stop_preview()"
   ]
  },
  {
   "cell_type": "markdown",
   "id": "22c24831",
   "metadata": {},
   "source": [
    "### Taking a video\n",
    "Use the command __raspivid__"
   ]
  },
  {
   "cell_type": "code",
   "execution_count": null,
   "id": "0c63e0b5",
   "metadata": {},
   "outputs": [],
   "source": [
    "#takes a video\n",
    "raspivid -o Desktop/video.h264"
   ]
  },
  {
   "cell_type": "code",
   "execution_count": null,
   "id": "50ff76e6",
   "metadata": {},
   "outputs": [],
   "source": [
    "camera.start_preview()\n",
    "camera.start_recording('/home/pi/Desktop/video.h264')\n",
    "sleep(5)\n",
    "camera.stop_recording()\n",
    "camera.stop_preview()"
   ]
  },
  {
   "cell_type": "markdown",
   "id": "8179f81d",
   "metadata": {},
   "source": [
    "## Automation\n",
    "\n",
    "### Bash\n",
    "Bash is a command language interpreter. It is widely available on various operating systems and is a default command interpreter on most Linux systems. \n",
    "\n",
    "\n",
    "### Scripting\n",
    "Scripting allows for an automatic commands execution that would otherwise be executed interactively one-by-one.\n",
    "\n",
    "A bash script is a text file containing instructions to be executed in order from top to bottom.\n",
    "\n",
    "By default, newly created files are not executable. We make them executable by use of __chmod +x FILENAME__ command.\n",
    "\n",
    "\n",
    "###  Crontab and bashscripts\n",
    "\n",
    "The crontab command submits, edits, lists, or removes cron jobs.\n",
    "\n",
    "A cron job is a command run regularly at scheduled intervals. \n",
    "\n",
    "Using cron you can execute a bashscript or Linux commands at a specific time and date. For example a sysadmin can schedule a backup job that can run every day.\n",
    "\n",
    "The __crontab -e__ command invokes an editing session that allows you to create a crontab file.\n",
    "\n",
    "\n",
    "\n",
    "A Bash Shell Script is a plain text file containing a set of various commands that we usually type in the command line. It is used to automate repetitive tasks on Linux filesystem.\n",
    "\n",
    "\n",
    "\n",
    "To automate the image capturing process, we add the path of the bashscripts to crontab. Then schedule the scripts to run __@reboot__"
   ]
  },
  {
   "cell_type": "markdown",
   "id": "e6386895",
   "metadata": {},
   "source": [
    "\n"
   ]
  }
 ],
 "metadata": {
  "kernelspec": {
   "display_name": "Python 3 (ipykernel)",
   "language": "python",
   "name": "python3"
  },
  "language_info": {
   "codemirror_mode": {
    "name": "ipython",
    "version": 3
   },
   "file_extension": ".py",
   "mimetype": "text/x-python",
   "name": "python",
   "nbconvert_exporter": "python",
   "pygments_lexer": "ipython3",
   "version": "3.10.6"
  }
 },
 "nbformat": 4,
 "nbformat_minor": 5
}
